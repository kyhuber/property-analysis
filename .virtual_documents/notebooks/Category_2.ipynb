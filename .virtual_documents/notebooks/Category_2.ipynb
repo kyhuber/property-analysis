


import pandas as pd
import numpy as np
import matplotlib.pyplot as plt
import seaborn as sns
from datetime import datetime, timedelta
import os
import re


# Enable interactive plots
%matplotlib inline


# Set plotting style
sns.set(style="whitegrid")
plt.rcParams['figure.figsize'] = [12, 8]


# Set display options to see more columns
pd.set_option('display.max_columns', 50)
pd.set_option('display.max_rows', 100)


# Print version info
print(f"Pandas version: {pd.__version__}")
print(f"NumPy version: {np.__version__}")
print(f"Matplotlib version: {plt.matplotlib.__version__}")
print(f"Seaborn version: {sns.__version__}")





def load_data(file_path):
    """
    Load and clean property data from CSV file.
    
    Args:
        file_path (str): Path to the CSV file
        
    Returns:
        pandas.DataFrame: Cleaned property data
    """
    print(f"Loading data from {file_path}...")
    
    # Use dtype parameter to specify data types upfront for more efficient loading
    # Also use low_memory=False to avoid mixed type inference warnings
    dtypes = {
        'SiteZIP': str,
        'LandUseDsc': str
    }
    
    properties = pd.read_csv(file_path, dtype=dtypes, low_memory=False)
    print(f"Original data shape: {properties.shape}")
    
    # Convert date columns - with a specific format for efficiency
    if 'DocRcrdgDt_County' in properties.columns:
        properties['DocRcrdgDt_County'] = pd.to_datetime(
            properties['DocRcrdgDt_County'], errors='coerce', format='%Y-%m-%d'
        )
    
    # Use vectorized operations instead of astype+str+replace chain
    currency_columns = [
        'MktTtlVal', 'SaleAmt_County', 'TaxTtl1', 'TaxTtl2', 'TaxTtl3'
    ]
    for col in currency_columns:
        if col in properties.columns:
            # This is more efficient than the chain of operations
            properties[col] = pd.to_numeric(
                properties[col].astype(str).str.replace(r'[\$,]', '', regex=True),
                errors='coerce'
            )
    
    # Handle other numeric columns in a batch when possible
    other_numeric_columns = [
        'BsmtFinSqFt', 'BsmtUnFinSqFt', 'BathHalfCt', 'Bath3QtrCt',
        'BathFullCt', 'BathTtlCt', 'BedCt', 'BldgSqFt', 'LotSqFt',
        'YrBlt', 'StoriesCt', 'Acres', 'ZoneCd', 'ZoneDsc'
    ]
    
    # Check which columns exist first
    existing_num_cols = [col for col in other_numeric_columns if col in properties.columns]
    if existing_num_cols:
        properties[existing_num_cols] = properties[existing_num_cols].apply(
            pd.to_numeric, errors='coerce'
        )
    
    # Use boolean conversion directly where possible
    boolean_columns = [
        'OwnerOccupiedInd', 'BareLandInd', 'InvestmentProp', 
        'BankOwnedInd', 'OwnerCorporateInd'
    ]
    for col in boolean_columns:
        if col in properties.columns:
            properties[col] = properties[col].map({
                'TRUE': True, 'FALSE': False, True: True, False: False
            })
    
    print(f"Cleaned data shape: {properties.shape}")
    print(f"Sample market values: {properties['MktTtlVal'].dropna().head().tolist()}")
    
    return properties





# Set path to your data file
file_path = "../data/Category_2.csv"

# Load and clean data
properties = load_data(file_path)





# Display a few sample rows
properties.head()


# Check data types and missing values
properties.info()


# Look at statistics for numeric columns
properties.describe()


# Check which ZIP codes are present
if 'SiteZIP' in properties.columns:
    print("ZIP code counts:")
    print(properties['SiteZIP'].value_counts())


# Check distribution of property types
if 'LandUseDsc' in properties.columns:
    print("Land use types:")
    print(properties['LandUseDsc'].value_counts().head(10))





def filter_category2(properties):
    """
    Apply Category 2 (Conversion-Ready Properties) filters
    
    Args:
        properties (pandas.DataFrame): Property data
        
    Returns:
        pandas.DataFrame: Filtered property data
    """
    print("Filtering for Category 2 (Conversion-Ready Properties) with criteria:")
    print("  - At least 1.5 bathrooms")
    print("  - At least 3 bedrooms")
    print("  - Building size >= 1600 sq ft")
    print("  - Lot size > 5000 sq ft")
    print("  - In ZIP codes: 98106, 98116, 98126, 98136")
    print("  - Market value between $650,000-$800,000")
    print("  - Property type: Single Family")

    # Normalize key fields
    if 'SiteZIP' in properties.columns:
        properties['SiteZIP'] = properties['SiteZIP'].astype(str).str.strip()
    
    if 'LandUseDsc' in properties.columns:
        properties['LandUseDsc'] = properties['LandUseDsc'].astype(str).str.strip()

    category2_filter = (
        (properties['BathTtlCt'] >= 1.5) &
        (properties['BedCt'] >= 3) &
        (properties['BldgSqFt'] >= 1600) &
        (properties['LotSqFt'] > 5000) &
        (properties['SiteZIP'].isin(['98106', '98116', '98126', '98136'])) &
        (properties['MktTtlVal'] >= 650000) &
        (properties['MktTtlVal'] <= 800000) &
        (properties['LandUseDsc'].str.contains('Single Family', case=False, na=False))
    )

    cat2_properties = properties[category2_filter].copy()

    print(f"Found {len(cat2_properties)} properties matching Category 2 criteria out of {len(properties)} total properties")
    
    if len(cat2_properties) > 0:
        print("\nBreakdown by ZIP code:")
        print(cat2_properties['SiteZIP'].value_counts())

    return cat2_properties

def calculate_zip_averages(properties):
    """
    Calculate average values by ZIP code
    
    Args:
        properties (pandas.DataFrame): Property data
        
    Returns:
        pandas.DataFrame: Average values by ZIP code
    """
    zip_averages = properties.groupby('SiteZIP')['MktTtlVal'].mean().reset_index()
    zip_averages.rename(columns={'MktTtlVal': 'ZipAvgValue'}, inplace=True)
    
    print("ZIP code average values:")
    print(zip_averages)
    
    return zip_averages





# Apply Category 2 filters
cat2_properties = filter_category2(properties)


# Display the first few properties that match
if len(cat2_properties) > 0:
    # Select a subset of columns to display
    display_columns = [
        'SiteAddr', 'SiteCity', 'SiteZIP', 'BathTtlCt', 'BedCt',
        'BldgSqFt', 'LotSqFt', 'YrBlt', 'MktTtlVal', 'LandUseDsc', 'ZoneCd'
    ]
    
    # Make sure all requested columns exist
    display_columns = [col for col in display_columns if col in cat2_properties.columns]
    
    print("\nSample of matching Category 2 properties:")
    display(cat2_properties[display_columns].head())
else:
    print("\nNo properties match Category 2 criteria.")


# Calculate neighborhood averages
if len(cat2_properties) > 0:
    zip_averages = calculate_zip_averages(cat2_properties)
    
    # Merge with the properties dataframe
    cat2_properties = cat2_properties.merge(zip_averages, on='SiteZIP', how='left')





# Only run if we have matching properties
if len(cat2_properties) > 0:
    # Distribution of properties by ZIP code
    plt.figure(figsize=(10, 6))
    ax = sns.countplot(data=cat2_properties, x='SiteZIP')
    plt.title('Number of Properties by ZIP Code', fontsize=16)
    plt.xlabel('ZIP Code', fontsize=12)
    plt.ylabel('Count', fontsize=12)
    
    # Add counts on top of bars
    for p in ax.patches:
        ax.annotate(f'{int(p.get_height())}', 
                   (p.get_x() + p.get_width() / 2., p.get_height()),
                   ha='center', va='bottom', fontsize=12)
    
    plt.tight_layout()
    plt.show()
    
    # Distribution of property values
    plt.figure(figsize=(12, 6))
    sns.histplot(cat2_properties['MktTtlVal'], bins=20, kde=True)
    plt.title('Distribution of Property Values', fontsize=16)
    plt.xlabel('Market Total Value ($)', fontsize=12)
    plt.ylabel('Count', fontsize=12)
    plt.tight_layout()
    plt.show()
    
    # Building Size vs Market Value
    plt.figure(figsize=(12, 8))
    sns.scatterplot(data=cat2_properties, x='BldgSqFt', y='MktTtlVal', hue='SiteZIP', alpha=0.7)
    plt.title('Building Size vs Market Value by ZIP Code', fontsize=16)
    plt.xlabel('Building Square Footage', fontsize=12)
    plt.ylabel('Market Value ($)', fontsize=12)
    plt.tight_layout()
    plt.show()
    
    # Boxplot of property values by ZIP code
    plt.figure(figsize=(12, 8))
    sns.boxplot(data=cat2_properties, x='SiteZIP', y='MktTtlVal')
    plt.title('Property Value Distribution by ZIP Code', fontsize=16)
    plt.xlabel('ZIP Code', fontsize=12)
    plt.ylabel('Market Value ($)', fontsize=12)
    plt.tight_layout()
    plt.show()





#========== DESIRABILITY SCORE FUNCTIONS - CATEGORY 2==========


def calculate_property_type_scorecat2(row):
    """
    Calculate property type scorecat2 (15 points max)
    
    Args:
        row (pandas.Series): Row of property data
        
    Returns:
        int: ScoreCat2 between 0-15
    """
    if pd.notna(row['LandUseDsc']) and "Duplex" in str(row['LandUseDsc']):
        return 15
    elif (pd.notna(row['LandUseDsc']) and "Single Family" in str(row['LandUseDsc']) and 
          ((pd.notna(row['BsmtFinSqFt']) and row['BsmtFinSqFt'] > 500) or 
           (pd.notna(row['BathFullCt']) and row['BathFullCt'] >= 2))):
        return 10
    elif pd.notna(row['LandUseDsc']) and "Single Family" in str(row['LandUseDsc']):
        return 5
    else:
        return 0




def calculate_bathroom_distribution_scorecat2(row):
    """
    Calculate bathroom distribution scorecat2 (15 points max)
    
    Args:
        row (pandas.Series): Row of property data
        
    Returns:
        int: ScoreCat2 between 0-15
    """
    bath_full = row['BathFullCt'] if pd.notna(row['BathFullCt']) else 0
    bath_3qtr = row['Bath3QtrCt'] if pd.notna(row['Bath3QtrCt']) else 0
    bath_half = row['BathHalfCt'] if pd.notna(row['BathHalfCt']) else 0
    
    if bath_full >= 2 and bath_3qtr >= 1:
        return 15
    elif bath_full == 2 and bath_half >= 1:
        return 12
    elif bath_full == 1 and bath_3qtr >= 1:
        return 10
    else:
        return 5




def calculate_building_size_scorecat2(row):
    """
    Calculate building size scorecat (10 points max)
    
    Args:
        row (pandas.Series): Row of property data
        
    Returns:
        int: ScoreCat2 between 0-10
    """
    if pd.notna(row['BldgSqFt']):
        if row['BldgSqFt'] > 2500:
            return 10
        elif row['BldgSqFt'] >= 2000:
            return 8
        elif row['BldgSqFt'] >= 1800:
            return 6
        elif row['BldgSqFt'] >= 1600:
            return 4
        else:
            return 2
    return 0




def calculate_basement_space_scorecat2(row):
    """
    Calculate basement space score for Category 2 (10 points max)
    For conversion-ready properties, unfinished basement space is preferred
    
    Args:
        row (pandas.Series): Row of property data
        
    Returns:
        int: Score between 0-10
    """
    bsmt_fin = row['BsmtFinSqFt'] if pd.notna(row['BsmtFinSqFt']) else 0
    bsmt_unfin = row['BsmtUnFinSqFt'] if pd.notna(row['BsmtUnFinSqFt']) else 0
    
    # For conversion-ready properties, unfinished space is preferred
    if bsmt_unfin > 800:
        return 10  # Large unfinished basement (ideal for conversion)
    elif bsmt_unfin >= 500:
        return 8   # Good unfinished space for conversion
    elif bsmt_unfin >= 300 and bsmt_fin >= 300:
        return 6   # Mix of finished/unfinished space
    elif bsmt_fin > 500:
        return 4   # Already finished (less flexible for conversion)
    elif (bsmt_fin + bsmt_unfin) > 0:
        return 2   # Some basement is better than none
    else:
        return 0   # No basement




def calculate_stories_count_scorecat2(row):
    """
    Calculate stories count scorecat2 (5 points max)
    
    Args:
        row (pandas.Series): Row of property data
        
    Returns:
        int: ScoreCat2 between 0-5
    """
    bsmt_fin = row['BsmtFinSqFt'] if pd.notna(row['BsmtFinSqFt']) else 0
    bsmt_unfin = row['BsmtUnFinSqFt'] if pd.notna(row['BsmtUnFinSqFt']) else 0
    
    if pd.notna(row['StoriesCt']) and row['StoriesCt'] >= 2:
        return 5
    elif pd.notna(row['StoriesCt']) and row['StoriesCt'] == 1 and (bsmt_fin > 0 or bsmt_unfin > 0):
        return 3
    else:
        return 1




def calculate_zip_code_value_scorecat2(row):
    """
    Calculate ZIP code value scorecat2 (15 points max)
    
    Args:
        row (pandas.Series): Row of property data
        
    Returns:
        int: ScoreCat2 between 0-15
    """
    if pd.notna(row['SiteZIP']):
        if row['SiteZIP'] == '98116':
            return 15
        elif row['SiteZIP'] == '98136':
            return 12
        elif row['SiteZIP'] == '98126':
            return 10
        elif row['SiteZIP'] == '98106':
            return 8
        else:
            return 5
    return 5




def calculate_lot_size_scorecat2(row):
    """
    Calculate lot size scorecat2 (10 points max)
    
    Args:
        row (pandas.Series): Row of property data
        
    Returns:
        int: ScoreCat2 between 0-10
    """
    if pd.notna(row['LotSqFt']):
        if row['LotSqFt'] > 8000:
            return 10
        elif row['LotSqFt'] >= 6000:
            return 8
        elif row['LotSqFt'] >= 5000:
            return 6
        else:
            return 4
    return 0




def calculate_condition_scorecat2(row):
    """
    Calculate condition score for Category 2 (10 points max)
    For conversion-ready properties, "Average" condition scores highest (easier/cheaper to convert)
    
    Args:
        row (pandas.Series): Row of property data
        
    Returns:
        int: Score between 0-10
    """
    if pd.notna(row['Condition']):
        condition = str(row['Condition']).strip().lower()
        if condition == 'average':
            return 10  # Ideal for conversion (not too dilapidated, not too finished)
        elif condition == 'fair':
            return 8   # Can be improved but may need more work
        elif condition == 'good':
            return 6   # May be over-improved for conversion purposes
        elif condition == 'excellent':
            return 4   # Likely over-improved, conversion might "waste" existing finishes
        else:
            return 2   # Poor condition may indicate deeper issues
    return 0




def calculate_year_built_scorecat2(row):
    """
    Calculate year built score for Category 2 (10 points max)
    For conversion-ready properties, 1950-1980 era homes score highest
    
    Args:
        row (pandas.Series): Row of property data
        
    Returns:
        int: Score between 0-10
    """
    if pd.notna(row['YrBlt']):
        if 1950 <= row['YrBlt'] <= 1980:
            return 10  # Ideal era for conversion-friendly layouts
        elif 1940 <= row['YrBlt'] < 1950:
            return 8   # Post-war homes, often good candidates
        elif 1980 < row['YrBlt'] <= 2000:
            return 6   # Newer but still adaptable
        elif row['YrBlt'] > 2000:
            return 4   # Very new homes (less need for conversion)
        else:
            return 2   # Very old homes (may have structural challenges)
    return 0


def calculate_zoning_scorecat2(row):
    """
    Calculate zoning score for Category 2 (10 points max)
    Evaluates zoning compatibility with rental unit conversion
    
    Args:
        row (pandas.Series): Row of property data
        
    Returns:
        int: Score between 0-10
    """
    if pd.notna(row['ZoneCd']):
        zone_code = str(row['ZoneCd']).strip()
        
        # Multi-family zones score highest
        if any(code in zone_code for code in ['LR1', 'LR2', 'LR3']):
            return 10  # Lowrise multi-family zones - ideal for conversion
        
        # Residential small lot is good for ADUs
        elif 'RSL' in zone_code:
            return 9  # Residential Small Lot - designed for higher density
            
        # Higher density residential zones
        elif any(code in zone_code for code in ['R-18', 'R-24', 'NR3']):
            return 8  # Higher density residential zones
            
        # Medium density residential
        elif any(code in zone_code for code in ['NR2']):
            return 6  # Medium density residential
            
        # Lower density residential
        elif any(code in zone_code for code in ['R-6']):
            return 4  # Lower density residential
            
        # Other residential zones not clearly categorized
        elif 'R-' in zone_code:
            return 3  # Other residential zones
            
        # Non-residential or industrial zones
        elif 'UI' in zone_code:
            return 0  # Urban Industrial - not suitable for residential conversion
            
        else:
            return 2  # Unknown zoning
    
    return 0  # No zoning information available


# Test these functions on a sample property to see if they work as expected
def test_desirability_scoring_functions():
    # Create a sample property for testing
    sample_property = pd.Series({
        'LandUseDsc': 'Single Family(Res Use/Zone)',
        'BsmtFinSqFt': 700,
        'BsmtUnFinSqFt': 500,
        'BathFullCt': 2,
        'Bath3QtrCt': 1,
        'BathHalfCt': 0,
        'BldgSqFt': 2200,
        'StoriesCt': 1,
        'SiteZIP': '98126',
        'LotSqFt': 7000,
        'Condition': 'Good',
        'YrBlt': 1985,
        'ZoneCd' : 'Residential Small Lot'
    })
    
    # Test each scoring function
    print("Testing desirability scoring functions on sample property...")
    print(f"Property Type ScoreCat2: {calculate_property_type_scorecat2(sample_property)}")
    print(f"Bathroom Distribution ScoreCat2: {calculate_bathroom_distribution_scorecat2(sample_property)}")
    print(f"Building Size ScoreCat2: {calculate_building_size_scorecat2(sample_property)}")
    print(f"Basement Space ScoreCat2: {calculate_basement_space_scorecat2(sample_property)}")
    print(f"Stories Count ScoreCat2: {calculate_stories_count_scorecat2(sample_property)}")
    print(f"ZIP Code Value ScoreCat2: {calculate_zip_code_value_scorecat2(sample_property)}")
    print(f"Lot Size ScoreCat2: {calculate_lot_size_scorecat2(sample_property)}")
    print(f"Condition ScoreCat2: {calculate_condition_scorecat2(sample_property)}")
    print(f"Year Built ScoreCat2: {calculate_year_built_scorecat2(sample_property)}")
    print(f"Zoning ScoreCat2: {calculate_zoning_scorecat2(sample_property)}")
    
    # Calculate total desirability scorecat2
    total_scorecat2 = (
        calculate_property_type_scorecat2(sample_property) +
        calculate_bathroom_distribution_scorecat2(sample_property) +
        calculate_building_size_scorecat2(sample_property) +
        calculate_basement_space_scorecat2(sample_property) +
        calculate_stories_count_scorecat2(sample_property) +
        calculate_zip_code_value_scorecat2(sample_property) +
        calculate_lot_size_scorecat2(sample_property) +
        calculate_condition_scorecat2(sample_property) +
        calculate_year_built_scorecat2(sample_property) +
        calculate_zoning_scorecat2(sample_property)
    )
    
    print(f"Total Desirability ScoreCat2: {total_scorecat2}")




# Run the test to see if our scoring functions work correctly
test_desirability_scoring_functions()





def calculate_ownership_duration_score(row):
    """
    Calculate score based on how long the current owner has owned the property
    Max score: 20 points
    """
    if not pd.notna(row['DocRcrdgDt_County']):
        return 0
    
    purchase_date = row['DocRcrdgDt_County']
    current_date = pd.Timestamp.now()
    ownership_years = (current_date - purchase_date).days / 365
    
    if ownership_years >= 10:
        return 20
    elif ownership_years >= 7:
        return 15
    elif ownership_years >= 5:
        return 10
    elif ownership_years >= 3:
        return 5
    else:
        return 0

def calculate_owner_occupied_score(row):
    """
    Calculate score based on whether property is owner-occupied
    Max score: 15 points
    """
    if pd.notna(row['OwnerOccupiedInd']) and row['OwnerOccupiedInd'] == False:
        return 15
    else:
        return 0

def calculate_corporate_ownership_score(row):
    """
    Calculate score based on corporate ownership
    Max score: 10 points
    """
    if pd.notna(row['OwnerCorporateInd']) and row['OwnerCorporateInd'] == True:
        return 10
    else:
        return 0

def calculate_tax_trend_score(row):
    """
    Calculate score based on tax increase trend
    Max score: 15 points
    """
    tax1 = row['TaxTtl1'] if pd.notna(row['TaxTtl1']) else 0
    tax2 = row['TaxTtl2'] if pd.notna(row['TaxTtl2']) else 0
    tax3 = row['TaxTtl3'] if pd.notna(row['TaxTtl3']) else 0
    
    # If we don't have enough data, return middle score
    if tax2 == 0 or tax3 == 0:
        return 5
    
    # Calculate average annual increase percentage
    increase1 = (tax1 - tax2) / tax2 * 100 if tax2 > 0 else 0
    increase2 = (tax2 - tax3) / tax3 * 100 if tax3 > 0 else 0
    avg_increase = (increase1 + increase2) / 2
    
    if avg_increase > 10:
        return 15
    elif avg_increase >= 5:
        return 10
    elif avg_increase >= 2:
        return 5
    else:
        return 0

def calculate_value_tax_ratio_score(row):
    """
    Calculate score based on tax to value ratio
    Max score: 10 points
    """
    tax = row['TaxTtl1'] if pd.notna(row['TaxTtl1']) else 0
    value = row['MktTtlVal'] if pd.notna(row['MktTtlVal']) else 0
    
    if value == 0:
        return 0
    
    ratio = tax / value * 100000  # Scaled for better comparison
    
    if ratio > 1.5:
        return 10
    elif ratio >= 1.2:
        return 7
    elif ratio >= 0.9:
        return 3
    else:
        return 0

def calculate_condition_vs_neighborhood_score(row, properties_df):
    """
    Calculate score based on property condition vs neighborhood average
    Max score: 15 points
    """
    if not pd.notna(row['Condition']) or not pd.notna(row['SiteZIP']):
        return 5  # Middle score if we don't have data
    
    # Map condition to numeric value
    condition_map = {
        'excellent': 5,
        'good': 4,
        'average': 3,
        'fair': 2,
        'poor': 1
    }
    
    property_condition = condition_map.get(str(row['Condition']).lower(), 3)
    
    # Calculate average condition for this ZIP code
    zip_properties = properties_df[properties_df['SiteZIP'] == row['SiteZIP']]
    zip_conditions = zip_properties['Condition'].apply(
        lambda x: condition_map.get(str(x).lower(), 3) if pd.notna(x) else 3
    )
    avg_condition = zip_conditions.mean() if len(zip_conditions) > 0 else 3
    
    if property_condition < avg_condition - 0.5:
        return 15
    elif abs(property_condition - avg_condition) <= 0.5:
        return 5
    else:
        return 0

def calculate_property_age_score(row):
    """
    Calculate score based on property age
    Max score: 10 points
    """
    if not pd.notna(row['YrBlt']):
        return 5  # Middle score if we don't have data
    
    year_built = row['YrBlt']
    
    if year_built < 1950:
        return 10
    elif year_built < 1970:
        return 7
    elif year_built < 1990:
        return 3
    else:
        return 0

def calculate_value_vs_zip_average_score(row, zip_averages_df):
    """
    Calculate score based on property value vs ZIP code average
    Max score: 15 points
    """
    if not pd.notna(row['MktTtlVal']) or not pd.notna(row['SiteZIP']):
        return 5  # Middle score if we don't have data
    
    property_value = row['MktTtlVal']
    
    # Get average value for this ZIP
    zip_avg = zip_averages_df.loc[
        zip_averages_df['SiteZIP'] == row['SiteZIP'], 
        'ZipAvgValue'
    ].values[0] if row['SiteZIP'] in zip_averages_df['SiteZIP'].values else property_value
    
    # Calculate percentage difference
    pct_diff = (zip_avg - property_value) / zip_avg * 100
    
    if pct_diff > 20:
        return 15
    elif pct_diff >= 10:
        return 10
    elif pct_diff >= -10:
        return 5
    else:
        return 0

def calculate_seller_likelihood_score(properties_df):
    """
    Calculate total seller likelihood score
    """
    # Calculate ZIP code averages once
    zip_averages = properties_df.groupby('SiteZIP')['MktTtlVal'].mean().reset_index()
    zip_averages.rename(columns={'MktTtlVal': 'ZipAvgValue'}, inplace=True)
    
    # Apply individual scoring functions
    properties_df['OwnershipDurationScore'] = properties_df.apply(
        calculate_ownership_duration_score, axis=1
    )
    
    properties_df['OwnerOccupiedScore'] = properties_df.apply(
        calculate_owner_occupied_score, axis=1
    )
    
    properties_df['CorporateOwnershipScore'] = properties_df.apply(
        calculate_corporate_ownership_score, axis=1
    )
    
    properties_df['TaxTrendScore'] = properties_df.apply(
        calculate_tax_trend_score, axis=1
    )
    
    properties_df['ValueTaxRatioScore'] = properties_df.apply(
        calculate_value_tax_ratio_score, axis=1
    )
    
    properties_df['ConditionVsNeighborhoodScore'] = properties_df.apply(
        lambda row: calculate_condition_vs_neighborhood_score(row, properties_df), axis=1
    )
    
    properties_df['PropertyAgeScore'] = properties_df.apply(
        calculate_property_age_score, axis=1
    )
    
    properties_df['ValueVsZipAverageScore'] = properties_df.apply(
        lambda row: calculate_value_vs_zip_average_score(row, zip_averages), axis=1
    )
    
    # Calculate total seller likelihood score
    score_columns = [
        'OwnershipDurationScore', 'OwnerOccupiedScore', 'CorporateOwnershipScore',
        'TaxTrendScore', 'ValueTaxRatioScore', 'ConditionVsNeighborhoodScore',
        'PropertyAgeScore', 'ValueVsZipAverageScore'
    ]
    
    properties_df['SellerLikelihoodScore'] = properties_df[score_columns].sum(axis=1)
  
    # Assign seller likelihood tiers
    def assign_seller_tier(score):
        max_possible = 110  # Total possible points
        if score >= max_possible * 0.75:  # 75% or higher
            return "Very Likely"
        elif score >= max_possible * 0.5:  # 50-75%
            return "Somewhat Likely"
        elif score >= max_possible * 0.25:  # 25-50%
            return "Somewhat Unlikely"
        else:  # Below 25%
            return "Very Unlikely"
    
    properties_df['SellerLikelihoodTier'] = properties_df['SellerLikelihoodScore'].apply(assign_seller_tier)
    
    return properties_df


def test_seller_likelihood_scoring_functions():
    """
    Test the seller likelihood scoring functions on a sample property
    to ensure they're working correctly.
    """
    # Create a sample property for testing
    sample_property = pd.Series({
        # Basic property info
        'SiteAddr': '123 Main St',
        'SiteCity': 'Seattle',
        'SiteZIP': '98126',
        'MktTtlVal': 725000,
        
        # Owner information
        'OwnerOccupiedInd': False,
        'OwnerCorporateInd': True,
        
        # Purchase history
        'DocRcrdgDt_County': pd.Timestamp('2011-05-15'),
        
        # Tax information
        'TaxTtl1': 9500,    # Current year taxes
        'TaxTtl2': 8200,    # Previous year taxes
        'TaxTtl3': 7500,    # Two years ago taxes
        
        # Property characteristics
        'Condition': 'Fair',
        'YrBlt': 1965
    })
    
    # Create a small dataframe with the sample property and some other properties
    # to test neighborhood comparisons
    other_properties = [
        # Another property in same ZIP with better condition
        pd.Series({
            'SiteZIP': '98126',
            'Condition': 'Good',
            'MktTtlVal': 750000
        }),
        # Another property in same ZIP with average condition
        pd.Series({
            'SiteZIP': '98126',
            'Condition': 'Average', 
            'MktTtlVal': 735000
        })
    ]
    
    # Combine into a dataframe
    test_df = pd.DataFrame([sample_property] + other_properties)
    
    # Create ZIP averages dataframe
    zip_averages = pd.DataFrame({
        'SiteZIP': ['98126', '98116'],
        'ZipAvgValue': [742500, 850000]
    })
    
    # Test each scoring function individually
    print("Testing seller likelihood scoring functions on sample property...")
    
    # Test ownership duration score
    ownership_score = calculate_ownership_duration_score(sample_property)
    print(f"Ownership Duration Score: {ownership_score} (Expected: 20 for ~14 years ownership)")
    
    # Test owner occupied score
    occupied_score = calculate_owner_occupied_score(sample_property)
    print(f"Owner Occupied Score: {occupied_score} (Expected: 15 for non-owner occupied)")
    
    # Test corporate ownership score
    corporate_score = calculate_corporate_ownership_score(sample_property)
    print(f"Corporate Ownership Score: {corporate_score} (Expected: 10 for corporate owned)")
    
    # Test tax trend score
    tax_score = calculate_tax_trend_score(sample_property)
    print(f"Tax Trend Score: {tax_score} (Expected: 10-15 for ~15% annual increase)")
    
    # Test value-tax ratio score
    value_tax_score = calculate_value_tax_ratio_score(sample_property)
    print(f"Value-Tax Ratio Score: {value_tax_score} (Expected: ~7 for ratio of ~1.3)")
    
    # Test condition vs neighborhood score
    condition_score = calculate_condition_vs_neighborhood_score(sample_property, test_df)
    print(f"Condition vs Neighborhood Score: {condition_score} (Expected: 15 for worse than neighborhood)")
    
    # Test property age score
    age_score = calculate_property_age_score(sample_property)
    print(f"Property Age Score: {age_score} (Expected: 7 for built in 1965)")
    
    # Test value vs ZIP average score
    value_zip_score = calculate_value_vs_zip_average_score(sample_property, zip_averages)
    print(f"Value vs ZIP Average Score: {value_zip_score} (Expected: 5 for within 10% of ZIP average)")
    
    # Calculate total seller likelihood score
    total_score = (
        ownership_score + occupied_score + corporate_score + tax_score +
        value_tax_score + condition_score + age_score + value_zip_score
    )
    
    # Determine max possible score
    max_possible = 110  # 20+15+10+15+10+15+10+15
    
    # Determine seller likelihood tier
    if total_score >= max_possible * 0.75:
        tier = "Very Likely"
    elif total_score >= max_possible * 0.5:
        tier = "Somewhat Likely"
    elif total_score >= max_possible * 0.25:
        tier = "Somewhat Unlikely"
    else:
        tier = "Very Unlikely"
    
    print(f"\nTotal Seller Likelihood Score: {total_score} (out of {max_possible} possible points)")
    print(f"Seller Likelihood Tier: {tier}")
    
    # Return total score for reference
    return total_score

# Run the test
test_score = test_seller_likelihood_scoring_functions()





def calculate_all_scorecat2s(properties):
    """
    Calculate all individual scorecat2s for properties
    
    Args:
        properties (pandas.DataFrame): Property data
        
    Returns:
        pandas.DataFrame: Property data with scorecat2s
    """
    # Calculate desirability scorecat2s
    print("Calculating desirability scorecat2s...")
    properties['PropertyTypeScoreCat2'] = properties.apply(calculate_property_type_scorecat2, axis=1)
    properties['BathroomDistributionScoreCat2'] = properties.apply(calculate_bathroom_distribution_scorecat2, axis=1)
    properties['BuildingSizeScoreCat2'] = properties.apply(calculate_building_size_scorecat2, axis=1)
    properties['BasementSpaceScoreCat2'] = properties.apply(calculate_basement_space_scorecat2, axis=1)
    properties['StoriesCountScoreCat2'] = properties.apply(calculate_stories_count_scorecat2, axis=1)
    properties['ZipCodeValueScoreCat2'] = properties.apply(calculate_zip_code_value_scorecat2, axis=1)
    properties['LotSizeScoreCat2'] = properties.apply(calculate_lot_size_scorecat2, axis=1)
    properties['ConditionScoreCat2'] = properties.apply(calculate_condition_scorecat2, axis=1)
    properties['YearBuiltScoreCat2'] = properties.apply(calculate_year_built_scorecat2, axis=1)
    properties['ZoningScoreCat2'] = properties.apply(calculate_zoning_scorecat2, axis=1)
    
    return properties




def calculate_combined_scorecat2s(properties):
    """
    Calculate total and combined scores, and assign priority tiers
    
    Args:
        properties (pandas.DataFrame): Property data with individual scores
        
    Returns:
        pandas.DataFrame: Property data with total scores and priority tiers
    """
    # Calculate desirability score
    desirability_columns = [
        'PropertyTypeScoreCat2', 'BathroomDistributionScoreCat2', 'BuildingSizeScoreCat2',
        'BasementSpaceScoreCat2', 'StoriesCountScoreCat2', 'ZipCodeValueScoreCat2',
        'LotSizeScoreCat2', 'ConditionScoreCat2', 'YearBuiltScoreCat2', 'ZoningScoreCat2'
    ]
    
    properties['DesirabilityScoreCat2'] = properties[desirability_columns].sum(axis=1)
    
    # Calculate seller likelihood score
    properties = calculate_seller_likelihood_score(properties)
    
    # Calculate final combined score (weighted average)
    properties['FinalScoreCat2'] = (
        properties['DesirabilityScoreCat2'] * 0.7 + 
        properties['SellerLikelihoodScore'] * 0.3
    )
    
    # Assign priority tiers based on the combined final score
    def assign_tier(score):
        # Calculate max possible score
        max_desirability = 100  # 15+15+10+10+5+15+10+10+10+10 (includes zoning)
        max_seller = 110  # Total possible seller likelihood points
        max_combined = max_desirability * 0.7 + max_seller * 0.3
        
        if score >= max_combined * 0.8:  # 80% or higher
            return "Tier 1"
        elif score >= max_combined * 0.65:  # 65-80%
            return "Tier 2"
        elif score >= max_combined * 0.5:  # 50-65%
            return "Tier 3"
        else:  # Below 50%
            return "Tier 4"
    
    properties['PriorityTier'] = properties['FinalScoreCat2'].apply(assign_tier)
    
    # Calculate max possible scores for reference
    max_desirability = 100
    max_seller = 110
    max_combined = max_desirability * 0.7 + max_seller * 0.3
    
    print("Score ranges for each tier:")
    print(f"  Tier 1: {max_combined * 0.8:.1f}-{max_combined:.1f}")
    print(f"  Tier 2: {max_combined * 0.65:.1f}-{max_combined * 0.8:.1f}")
    print(f"  Tier 3: {max_combined * 0.5:.1f}-{max_combined * 0.65:.1f}")
    print(f"  Tier 4: 0-{max_combined * 0.5:.1f}")
    
    return properties


# Apply scoring functions to Category 2 properties
if len(cat2_properties) > 0:
    # Calculate scorecat2s
    cat2_properties = calculate_all_scorecat2s(cat2_properties)
    cat2_properties = calculate_combined_scorecat2s(cat2_properties)
    
    # Display scorecat2 summary
    print("\nScoreCat2 summary statistics:")
    print(cat2_properties['DesirabilityScoreCat2'].describe())
    
    # Count properties by tier
    print("\nProperties by tier:")
    tier_counts = cat2_properties['PriorityTier'].value_counts().sort_index()
    print(tier_counts)
    
    # Display top 5 properties
    display_columns = [
        'SiteAddr', 'SiteCity', 'SiteZIP', 'BathTtlCt', 'BedCt',
        'BldgSqFt', 'YrBlt', 'MktTtlVal', 'DesirabilityScoreCat2', 
        'SellerLikelihoodScore', 'FinalScoreCat2', 'PriorityTier', 'ZoneCd'
    ]
    
    # Make sure all requested columns exist
    display_columns = [col for col in display_columns if col in cat2_properties.columns]
    
    print("\nTop 5 properties by final score:")
    top_properties = cat2_properties.sort_values('FinalScoreCat2', ascending=False)
    display(top_properties[display_columns].head())





import pandas as pd

# Assuming you already have your DataFrame loaded with the property data and scores
# For example: df = pd.read_csv('properties_with_scores.csv')

def reorder_columns(df, category):
    """
    Reorder columns based on the property category and recommended structure
    
    Parameters:
    df (DataFrame): The DataFrame containing property data and scores
    category (int): The category number (1, 2, or 3)
    
    Returns:
    DataFrame: A new DataFrame with reordered columns
    """
    # Define column groups
    scoring_cols = [
        'PriorityTier', 'DesirabilityScoreCat2', 'SellerLikelihoodScore', 'FinalScoreCat2'
    ]
    
    # Add factor score columns based on category
    if category == 1:  # Rent-Ready Properties
        factor_cols = [
            'PropertyTypeScoreCat2', 'BathroomDistributionScoreCat2', 'BuildingSizeScoreCat2',
            'BasementSpaceScoreCat2', 'StoriesCountScoreCat2', 'ZipCodeValueScoreCat2',
            'LotSizeScoreCat2', 'ConditionScoreCat2', 'YearBuiltScoreCat2', 'ZoningScoreCat2'
        ]
    elif category == 2:  # Conversion-Ready Properties
        factor_cols = [
            'PropertyTypeScoreCat2', 'BathroomDistributionScoreCat2', 'BuildingSizeScoreCat2',
            'BasementSpaceScoreCat2', 'StoriesCountScoreCat2', 'ZipCodeValueScoreCat2',
            'LotSizeScoreCat2', 'ConditionScoreCat2', 'YearBuiltScoreCat2', 'ZoningScoreCat2'
        ]
    else:  # Single-Family Residences
        factor_cols = [
                'PropertyTypeScoreCat2', 'BathroomDistributionScoreCat2', 'BuildingSizeScoreCat2',
                'BasementSpaceScoreCat2', 'StoriesCountScoreCat2', 'ZipCodeValueScoreCat2',
                'LotSizeScoreCat2', 'ConditionScoreCat2', 'YearBuiltScoreCat2', 'ZoningScoreCat2'
        ]
    
    # Basic property identification
    id_cols = [
        'SiteAddr', 'SiteCity', 'SiteState', 'SiteZIP', 'ParcelId', 'LandUseDsc'
    ]
    
    # Key property characteristics
    key_cols = [
        'MktTtlVal', 'BedCt', 'BathTtlCt', 'BldgSqFt', 'LotSqFt', 'Acres',
        'YrBlt', 'Condition'
    ]
    
    # Category-specific features
    if category == 1:  # Rent-Ready Properties
        category_cols = [
            'GarageDsc', 'BsmtFinSqFt', 'BsmtUnFinSqFt', 'StoriesCt', 'FireplaceCt'
        ]
    elif category == 2:  # Conversion-Ready Properties
        category_cols = [
            'BsmtFinSqFt', 'BsmtUnFinSqFt', 'ZoneCd', 'ZoneDsc', 'StoriesCt'
        ]
    else:  # Single-Family Residences
        category_cols = [
            'GarageDsc', 'GarageSqFt', 'StoriesCt', 'FireplaceCt', 'HeatType'
        ]
    
    # Financial/tax information
    financial_cols = [
        'TaxTtl1', 'TaxYr1', 'AssdImprVal', 'AssdLandVal', 'AssdTtlVal'
    ]
    
    # Owner information
    owner_cols = [
        'OwnerNmFirstBoth', 'OwnerNmLast', 'OwnerOccupiedInd'
    ]
    
    # Combine all column groups in desired order
    ordered_cols = scoring_cols + factor_cols + id_cols + key_cols + category_cols + financial_cols + owner_cols
    
    # Filter to only include columns that exist in the DataFrame
    existing_cols = [col for col in ordered_cols if col in df.columns]
    
    # Add any remaining columns that weren't explicitly ordered
    remaining_cols = [col for col in df.columns if col not in existing_cols]
    final_ordered_cols = existing_cols + remaining_cols
    
    # Return DataFrame with reordered columns
    return df[final_ordered_cols]

# Example usage
# Assuming df_cat1, df_cat2, df_cat3 are your DataFrames for each category
# df_cat1_reordered = reorder_columns(df_cat1, 1)
# df_cat2_reordered = reorder_columns(df_cat2, 2)
# df_cat3_reordered = reorder_columns(df_cat3, 3)

# To save the reordered DataFrames to CSV files
# df_cat1_reordered.to_csv('category1_properties_reordered.csv', index=False)
# df_cat2_reordered.to_csv('category2_properties_reordered.csv', index=False)
# df_cat3_reordered.to_csv('category3_properties_reordered.csv', index=False)





# Save the results to a CSV file
if len(cat2_properties) > 0:
    # Reorder the columns for better readability
    cat2_properties_reordered = reorder_columns(cat2_properties, 2)
    
    # Create output directory if it doesn't exist
    output_dir = './output'
    os.makedirs(output_dir, exist_ok=True)
    
    # Save to CSV - use the reordered dataframe
    output_file = f"{output_dir}/category2_scorecat2_properties_all.csv"
    cat2_properties_reordered.to_csv(output_file, index=False)
    print(f"Saved {len(cat2_properties)} scored properties to {output_file}")



